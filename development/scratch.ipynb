{
 "cells": [
  {
   "cell_type": "code",
   "execution_count": 25,
   "metadata": {},
   "outputs": [
    {
     "name": "stdout",
     "output_type": "stream",
     "text": [
      "00 00 00\n",
      "01 01 00\n",
      "02 02 00\n",
      "03 03 00\n",
      "04 04 00\n",
      "05 05 00\n",
      "06 06 00\n",
      "07 07 00\n",
      "08 08 00\n",
      "09 09 00\n",
      "10 10 00\n",
      "11 11 00\n",
      "12 12 00\n",
      "13 13 00\n",
      "14 14 00\n",
      "15 15 00\n",
      "16 16 00\n",
      "17 17 00\n",
      "18 18 00\n",
      "19 19 00\n",
      "20 20 00\n",
      "21 21 00\n",
      "22 22 00\n",
      "23 23 00\n",
      "24 00 01\n",
      "25 01 01\n",
      "26 02 01\n",
      "27 03 01\n",
      "28 04 01\n",
      "29 05 01\n",
      "30 06 01\n",
      "31 07 01\n",
      "32 08 01\n",
      "33 09 01\n",
      "34 10 01\n",
      "35 11 01\n",
      "36 12 01\n",
      "37 13 01\n",
      "38 14 01\n",
      "39 15 01\n",
      "40 16 01\n",
      "41 17 01\n",
      "42 18 01\n",
      "43 19 01\n",
      "44 20 01\n",
      "45 21 01\n",
      "46 22 01\n",
      "47 23 01\n",
      "48 00 02\n",
      "49 01 02\n",
      "50 02 02\n",
      "51 03 02\n",
      "52 04 02\n",
      "53 05 02\n",
      "54 06 02\n",
      "55 07 02\n",
      "56 08 02\n",
      "57 09 02\n",
      "58 10 02\n",
      "59 11 02\n",
      "60 12 02\n",
      "61 13 02\n",
      "62 14 02\n",
      "63 15 02\n",
      "64 16 02\n",
      "65 17 02\n",
      "66 18 02\n",
      "67 19 02\n",
      "68 20 02\n",
      "69 21 02\n"
     ]
    }
   ],
   "source": [
    "for i in range(70):\n",
    "    hour = i-24*(i//24)\n",
    "    day = i//24\n",
    "    print(str(i).zfill(2),str(hour).zfill(2),str(day).zfill(2))\n",
    "    \n"
   ]
  },
  {
   "cell_type": "code",
   "execution_count": 2,
   "metadata": {},
   "outputs": [],
   "source": [
    "import seaborn as sns\n",
    "import matplotlib.pyplot as plt\n",
    "%matplotlib inline"
   ]
  },
  {
   "cell_type": "code",
   "execution_count": 3,
   "metadata": {},
   "outputs": [
    {
     "ename": "AttributeError",
     "evalue": "'AxesSubplot' object has no attribute 'set_clabel'",
     "output_type": "error",
     "traceback": [
      "\u001b[0;31m---------------------------------------------------------------------------\u001b[0m",
      "\u001b[0;31mAttributeError\u001b[0m                            Traceback (most recent call last)",
      "\u001b[0;32m<ipython-input-3-02bfd9d3b2fd>\u001b[0m in \u001b[0;36m<module>\u001b[0;34m()\u001b[0m\n\u001b[1;32m     19\u001b[0m      verticalalignment='center', fontsize=13, transform=ax.transAxes)\n\u001b[1;32m     20\u001b[0m \u001b[0max\u001b[0m\u001b[0;34m.\u001b[0m\u001b[0mset_title\u001b[0m\u001b[0;34m(\u001b[0m\u001b[0;34m'Model Success %'\u001b[0m\u001b[0;34m)\u001b[0m\u001b[0;34m\u001b[0m\u001b[0m\n\u001b[0;32m---> 21\u001b[0;31m \u001b[0max\u001b[0m\u001b[0;34m.\u001b[0m\u001b[0mset_clabel\u001b[0m\u001b[0;34m(\u001b[0m\u001b[0;34m'Cloud Cover %'\u001b[0m\u001b[0;34m)\u001b[0m\u001b[0;34m\u001b[0m\u001b[0m\n\u001b[0m\u001b[1;32m     22\u001b[0m \u001b[0mplt\u001b[0m\u001b[0;34m.\u001b[0m\u001b[0msavefig\u001b[0m\u001b[0;34m(\u001b[0m\u001b[0;34m'../plots/test.pdf'\u001b[0m\u001b[0;34m,\u001b[0m\u001b[0mbbox_inches\u001b[0m\u001b[0;34m=\u001b[0m\u001b[0;34m'tight'\u001b[0m\u001b[0;34m)\u001b[0m\u001b[0;34m\u001b[0m\u001b[0m\n",
      "\u001b[0;31mAttributeError\u001b[0m: 'AxesSubplot' object has no attribute 'set_clabel'"
     ]
    },
    {
     "data": {
      "image/png": "[encoded data removed]",
      "text/plain": [
       "<Figure size 432x288 with 2 Axes>"
      ]
     },
     "metadata": {},
     "output_type": "display_data"
    }
   ],
   "source": [
    "spaces = '                       '\n",
    "ax = plt.axes()\n",
    "\n",
    "data = [100,0,0,100]\n",
    "sns.heatmap([[data[0],data[1]],[data[2],data[3]]],xticklabels=['Departed','Cancelled'],yticklabels=[f'{spaces}Departed',f'{spaces}Cancelled'],ax=ax,cmap='viridis')\n",
    "\n",
    "plt.text(-0.25, 0.5, 'Actual', horizontalalignment='center',\n",
    "     verticalalignment='center', fontsize=13, transform=ax.transAxes)\n",
    "plt.text(0.5, -0.15, 'Predicted', horizontalalignment='center',\n",
    "     verticalalignment='center', fontsize=13, transform=ax.transAxes)\n",
    "\n",
    "plt.text(0.25, 0.75, f'{data[0]}%', horizontalalignment='center',\n",
    "     verticalalignment='center', fontsize=13, transform=ax.transAxes, fontweight='bold')\n",
    "plt.text(0.75, 0.75, f'{data[1]}%', horizontalalignment='center',\n",
    "     verticalalignment='center', fontsize=13, transform=ax.transAxes)\n",
    "plt.text(0.25, 0.25, f'{data[2]}%', horizontalalignment='center',\n",
    "     verticalalignment='center', fontsize=13, transform=ax.transAxes, fontweight='bold')\n",
    "plt.text(0.75, 0.25, f'{data[3]}%', horizontalalignment='center',\n",
    "     verticalalignment='center', fontsize=13, transform=ax.transAxes)\n",
    "ax.set_title('Model Success %')\n",
    "ax.set_clabel('Cloud Cover %')\n",
    "plt.savefig('../plots/test.pdf',bbox_inches='tight')"
   ]
  },
  {
   "cell_type": "code",
   "execution_count": 3,
   "metadata": {},
   "outputs": [
    {
     "ename": "ModuleNotFoundError",
     "evalue": "No module named 'basemap'",
     "output_type": "error",
     "traceback": [
      "\u001b[0;31m---------------------------------------------------------------------------\u001b[0m",
      "\u001b[0;31mModuleNotFoundError\u001b[0m                       Traceback (most recent call last)",
      "\u001b[0;32m<ipython-input-3-35a765f99ad8>\u001b[0m in \u001b[0;36m<module>\u001b[0;34m()\u001b[0m\n\u001b[1;32m      1\u001b[0m \u001b[0;32mfrom\u001b[0m \u001b[0mmatplotlib\u001b[0m \u001b[0;32mimport\u001b[0m \u001b[0mpyplot\u001b[0m \u001b[0;32mas\u001b[0m \u001b[0mplt\u001b[0m\u001b[0;34m\u001b[0m\u001b[0m\n\u001b[0;32m----> 2\u001b[0;31m \u001b[0;32mimport\u001b[0m \u001b[0mbasemap\u001b[0m\u001b[0;34m\u001b[0m\u001b[0m\n\u001b[0m",
      "\u001b[0;31mModuleNotFoundError\u001b[0m: No module named 'basemap'"
     ]
    }
   ],
   "source": [
    "from matplotlib import pyplot as plt\n",
    "import basemap"
   ]
  },
  {
   "cell_type": "code",
   "execution_count": null,
   "metadata": {},
   "outputs": [],
   "source": []
  }
 ],
 "metadata": {
  "kernelspec": {
   "display_name": "Python 3",
   "language": "python",
   "name": "python3"
  },
  "language_info": {
   "codemirror_mode": {
    "name": "ipython",
    "version": 3
   },
   "file_extension": ".py",
   "mimetype": "text/x-python",
   "name": "python",
   "nbconvert_exporter": "python",
   "pygments_lexer": "ipython3",
   "version": "3.6.6"
  }
 },
 "nbformat": 4,
 "nbformat_minor": 2
}
