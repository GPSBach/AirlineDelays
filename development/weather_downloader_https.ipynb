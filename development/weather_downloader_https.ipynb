{
 "cells": [
  {
   "cell_type": "code",
   "execution_count": null,
   "metadata": {},
   "outputs": [
    {
     "name": "stdout",
     "output_type": "stream",
     "text": [
      "No File: rap_130_20180800_0000_000.grb2\n",
      "No File: rap_130_20180800_0100_000.grb2\n",
      "No File: rap_130_20180800_0200_000.grb2\n",
      "No File: rap_130_20180800_0300_000.grb2\n",
      "No File: rap_130_20180800_0400_000.grb2\n",
      "No File: rap_130_20180800_0500_000.grb2\n",
      "No File: rap_130_20180800_0600_000.grb2\n",
      "No File: rap_130_20180800_0700_000.grb2\n",
      "No File: rap_130_20180800_0800_000.grb2\n",
      "No File: rap_130_20180800_0900_000.grb2\n",
      "No File: rap_130_20180800_1000_000.grb2\n",
      "No File: rap_130_20180800_1100_000.grb2\n",
      "No File: rap_130_20180800_1200_000.grb2\n",
      "No File: rap_130_20180800_1300_000.grb2\n",
      "No File: rap_130_20180800_1400_000.grb2\n",
      "No File: rap_130_20180800_1500_000.grb2\n",
      "No File: rap_130_20180800_1600_000.grb2\n",
      "No File: rap_130_20180800_1700_000.grb2\n",
      "No File: rap_130_20180800_1800_000.grb2\n",
      "No File: rap_130_20180800_1900_000.grb2\n",
      "No File: rap_130_20180800_2000_000.grb2\n",
      "No File: rap_130_20180800_2100_000.grb2\n",
      "No File: rap_130_20180800_2200_000.grb2\n",
      "No File: rap_130_20180801_0000_000.grb2\n",
      "No File: rap_130_20180801_0100_000.grb2\n",
      "No File: rap_130_20180801_0200_000.grb2\n",
      "No File: rap_130_20180801_0300_000.grb2\n",
      "No File: rap_130_20180801_0400_000.grb2\n",
      "No File: rap_130_20180801_0500_000.grb2\n",
      "No File: rap_130_20180801_0600_000.grb2\n",
      "No File: rap_130_20180801_0700_000.grb2\n",
      "No File: rap_130_20180801_0800_000.grb2\n",
      "No File: rap_130_20180801_0900_000.grb2\n",
      "No File: rap_130_20180801_1000_000.grb2\n",
      "No File: rap_130_20180801_1100_000.grb2\n",
      "No File: rap_130_20180801_1200_000.grb2\n",
      "No File: rap_130_20180801_1300_000.grb2\n",
      "No File: rap_130_20180801_1400_000.grb2\n",
      "No File: rap_130_20180801_1500_000.grb2\n",
      "No File: rap_130_20180801_1600_000.grb2\n",
      "No File: rap_130_20180801_1700_000.grb2\n",
      "No File: rap_130_20180801_1800_000.grb2\n",
      "No File: rap_130_20180801_1900_000.grb2\n",
      "No File: rap_130_20180801_2000_000.grb2\n",
      "No File: rap_130_20180801_2100_000.grb2\n",
      "No File: rap_130_20180801_2200_000.grb2\n",
      "No File: rap_130_20180802_0000_000.grb2\n",
      "No File: rap_130_20180802_0100_000.grb2\n",
      "No File: rap_130_20180802_0200_000.grb2\n",
      "No File: rap_130_20180802_0300_000.grb2\n",
      "No File: rap_130_20180802_0400_000.grb2\n",
      "No File: rap_130_20180802_0500_000.grb2\n",
      "No File: rap_130_20180802_0600_000.grb2\n",
      "No File: rap_130_20180802_0700_000.grb2\n",
      "No File: rap_130_20180802_0800_000.grb2\n",
      "No File: rap_130_20180802_0900_000.grb2\n",
      "No File: rap_130_20180802_1000_000.grb2\n",
      "No File: rap_130_20180802_1100_000.grb2\n",
      "No File: rap_130_20180802_1200_000.grb2\n",
      "No File: rap_130_20180802_1300_000.grb2\n",
      "No File: rap_130_20180802_1400_000.grb2\n",
      "No File: rap_130_20180802_1500_000.grb2\n",
      "No File: rap_130_20180802_1600_000.grb2\n",
      "No File: rap_130_20180802_1700_000.grb2\n",
      "No File: rap_130_20180802_1800_000.grb2\n",
      "No File: rap_130_20180802_1900_000.grb2\n",
      "No File: rap_130_20180802_2000_000.grb2\n",
      "No File: rap_130_20180802_2100_000.grb2\n",
      "No File: rap_130_20180802_2200_000.grb2\n",
      "No File: rap_130_20180803_0000_000.grb2\n",
      "No File: rap_130_20180803_0100_000.grb2\n",
      "No File: rap_130_20180803_0200_000.grb2\n",
      "No File: rap_130_20180803_0300_000.grb2\n",
      "No File: rap_130_20180803_0400_000.grb2\n",
      "No File: rap_130_20180803_0500_000.grb2\n",
      "No File: rap_130_20180803_0600_000.grb2\n",
      "No File: rap_130_20180803_0700_000.grb2\n",
      "No File: rap_130_20180803_0800_000.grb2\n",
      "No File: rap_130_20180803_0900_000.grb2\n",
      "No File: rap_130_20180803_1000_000.grb2\n",
      "No File: rap_130_20180803_1100_000.grb2\n",
      "No File: rap_130_20180803_1200_000.grb2\n",
      "No File: rap_130_20180803_1300_000.grb2\n",
      "No File: rap_130_20180803_1400_000.grb2\n",
      "No File: rap_130_20180803_1500_000.grb2\n",
      "No File: rap_130_20180803_1600_000.grb2\n",
      "No File: rap_130_20180803_1700_000.grb2\n",
      "No File: rap_130_20180803_1800_000.grb2\n",
      "No File: rap_130_20180803_1900_000.grb2\n",
      "No File: rap_130_20180803_2000_000.grb2\n",
      "No File: rap_130_20180803_2100_000.grb2\n",
      "No File: rap_130_20180803_2200_000.grb2\n",
      "No File: rap_130_20180804_0000_000.grb2\n",
      "No File: rap_130_20180804_0100_000.grb2\n",
      "No File: rap_130_20180804_0200_000.grb2\n",
      "No File: rap_130_20180804_0300_000.grb2\n",
      "No File: rap_130_20180804_0400_000.grb2\n",
      "No File: rap_130_20180804_0500_000.grb2\n",
      "No File: rap_130_20180804_0600_000.grb2\n",
      "No File: rap_130_20180804_0700_000.grb2\n",
      "No File: rap_130_20180804_0800_000.grb2\n",
      "No File: rap_130_20180804_0900_000.grb2\n",
      "No File: rap_130_20180804_1000_000.grb2\n",
      "No File: rap_130_20180804_1100_000.grb2\n",
      "No File: rap_130_20180804_1200_000.grb2\n",
      "No File: rap_130_20180804_1300_000.grb2\n",
      "No File: rap_130_20180804_1400_000.grb2\n",
      "No File: rap_130_20180804_1500_000.grb2\n",
      "No File: rap_130_20180804_1600_000.grb2\n",
      "No File: rap_130_20180804_1700_000.grb2\n",
      "No File: rap_130_20180804_1800_000.grb2\n",
      "No File: rap_130_20180804_1900_000.grb2\n",
      "No File: rap_130_20180804_2000_000.grb2\n",
      "No File: rap_130_20180804_2100_000.grb2\n",
      "No File: rap_130_20180804_2200_000.grb2\n",
      "No File: rap_130_20180805_0000_000.grb2\n",
      "No File: rap_130_20180805_0100_000.grb2\n",
      "No File: rap_130_20180805_0200_000.grb2\n",
      "No File: rap_130_20180805_0300_000.grb2\n",
      "No File: rap_130_20180805_0400_000.grb2\n",
      "No File: rap_130_20180805_0500_000.grb2\n",
      "No File: rap_130_20180805_0600_000.grb2\n",
      "No File: rap_130_20180805_0700_000.grb2\n",
      "No File: rap_130_20180805_0800_000.grb2\n",
      "No File: rap_130_20180805_0900_000.grb2\n",
      "No File: rap_130_20180805_1000_000.grb2\n",
      "No File: rap_130_20180805_1100_000.grb2\n",
      "No File: rap_130_20180805_1200_000.grb2\n",
      "No File: rap_130_20180805_1300_000.grb2\n",
      "No File: rap_130_20180805_1400_000.grb2\n",
      "No File: rap_130_20180805_1500_000.grb2\n",
      "No File: rap_130_20180805_1600_000.grb2\n",
      "No File: rap_130_20180805_1700_000.grb2\n",
      "No File: rap_130_20180805_1800_000.grb2\n",
      "No File: rap_130_20180805_1900_000.grb2\n",
      "No File: rap_130_20180805_2000_000.grb2\n",
      "No File: rap_130_20180805_2100_000.grb2\n",
      "No File: rap_130_20180805_2200_000.grb2\n",
      "No File: rap_130_20180806_0000_000.grb2\n",
      "No File: rap_130_20180806_0100_000.grb2\n",
      "No File: rap_130_20180806_0200_000.grb2\n",
      "No File: rap_130_20180806_0300_000.grb2\n",
      "No File: rap_130_20180806_0400_000.grb2\n",
      "No File: rap_130_20180806_0500_000.grb2\n",
      "No File: rap_130_20180806_0600_000.grb2\n",
      "No File: rap_130_20180806_0700_000.grb2\n",
      "No File: rap_130_20180806_0800_000.grb2\n",
      "No File: rap_130_20180806_0900_000.grb2\n",
      "No File: rap_130_20180806_1000_000.grb2\n",
      "No File: rap_130_20180806_1100_000.grb2\n",
      "No File: rap_130_20180806_1200_000.grb2\n",
      "No File: rap_130_20180806_1300_000.grb2\n",
      "No File: rap_130_20180806_1400_000.grb2\n",
      "No File: rap_130_20180806_1500_000.grb2\n",
      "No File: rap_130_20180806_1600_000.grb2\n"
     ]
    }
   ],
   "source": [
    "'''\n",
    "Downloader for NWS RAP HTTP Service using requests\n",
    "Currently broken for .grb2 downloads\n",
    "'''\n",
    "\n",
    "from pathlib import Path\n",
    "import requests\n",
    "import os\n",
    "import sys\n",
    "\n",
    "server = \"https://nomads.ncdc.noaa.gov\"\n",
    "destination = \"/Users/tbowling/ds/metis/working/projects/AirlineDelay/data/weather/https/\"\n",
    "\n",
    "days = []\n",
    "for i in range(31):\n",
    "    if i < 10:\n",
    "        days.append('0'+str(i))\n",
    "    else:\n",
    "        days.append(str(i))\n",
    "        \n",
    "hours = []\n",
    "for i in range(23):\n",
    "    if i < 10:\n",
    "        hours.append('0'+str(i)+'00')\n",
    "    else:\n",
    "        hours.append(str(i)+'00')\n",
    "\n",
    "with requests.Session() as req:\n",
    "    for day in days:\n",
    "        for hour in hours:        \n",
    "            file = f'rap_130_201808{day}_{hour}_000.grb2'\n",
    "            outfile = Path(file)\n",
    "            try:\n",
    "                r = req.get(server+f'/RUC/analysis_only/201808/201808{day}' + file)\n",
    "                with open(os.path.join(destination, file), 'wb') as f:\n",
    "                    f.write_bytes(r.content)\n",
    "                #outfile.write_bytes(r.content)\n",
    "                print('Downloaded:',file)\n",
    "            except:\n",
    "                print('No File:',file)\n",
    "                continue\n",
    "\n",
    "ftp.quit()"
   ]
  },
  {
   "cell_type": "code",
   "execution_count": 16,
   "metadata": {},
   "outputs": [],
   "source": [
    "days = []\n",
    "for i in range(31):\n",
    "    if i < 10:\n",
    "        days.append('0'+str(i))\n",
    "    else:\n",
    "        days.append(str(i))"
   ]
  },
  {
   "cell_type": "code",
   "execution_count": 4,
   "metadata": {},
   "outputs": [
    {
     "data": {
      "text/plain": [
       "'00'"
      ]
     },
     "execution_count": 4,
     "metadata": {},
     "output_type": "execute_result"
    }
   ],
   "source": [
    "days[0]"
   ]
  },
  {
   "cell_type": "code",
   "execution_count": 31,
   "metadata": {},
   "outputs": [
    {
     "ename": "EOFError",
     "evalue": "",
     "output_type": "error",
     "traceback": [
      "\u001b[0;31m---------------------------------------------------------------------------\u001b[0m",
      "\u001b[0;31mEOFError\u001b[0m                                  Traceback (most recent call last)",
      "\u001b[0;32m<ipython-input-31-4492e6599587>\u001b[0m in \u001b[0;36m<module>\u001b[0;34m()\u001b[0m\n\u001b[0;32m----> 1\u001b[0;31m \u001b[0mftp\u001b[0m\u001b[0;34m.\u001b[0m\u001b[0mquit\u001b[0m\u001b[0;34m(\u001b[0m\u001b[0;34m)\u001b[0m\u001b[0;34m\u001b[0m\u001b[0m\n\u001b[0m",
      "\u001b[0;32m/anaconda3/lib/python3.6/ftplib.py\u001b[0m in \u001b[0;36mquit\u001b[0;34m(self)\u001b[0m\n\u001b[1;32m    663\u001b[0m     \u001b[0;32mdef\u001b[0m \u001b[0mquit\u001b[0m\u001b[0;34m(\u001b[0m\u001b[0mself\u001b[0m\u001b[0;34m)\u001b[0m\u001b[0;34m:\u001b[0m\u001b[0;34m\u001b[0m\u001b[0m\n\u001b[1;32m    664\u001b[0m         \u001b[0;34m'''Quit, and close the connection.'''\u001b[0m\u001b[0;34m\u001b[0m\u001b[0m\n\u001b[0;32m--> 665\u001b[0;31m         \u001b[0mresp\u001b[0m \u001b[0;34m=\u001b[0m \u001b[0mself\u001b[0m\u001b[0;34m.\u001b[0m\u001b[0mvoidcmd\u001b[0m\u001b[0;34m(\u001b[0m\u001b[0;34m'QUIT'\u001b[0m\u001b[0;34m)\u001b[0m\u001b[0;34m\u001b[0m\u001b[0m\n\u001b[0m\u001b[1;32m    666\u001b[0m         \u001b[0mself\u001b[0m\u001b[0;34m.\u001b[0m\u001b[0mclose\u001b[0m\u001b[0;34m(\u001b[0m\u001b[0;34m)\u001b[0m\u001b[0;34m\u001b[0m\u001b[0m\n\u001b[1;32m    667\u001b[0m         \u001b[0;32mreturn\u001b[0m \u001b[0mresp\u001b[0m\u001b[0;34m\u001b[0m\u001b[0m\n",
      "\u001b[0;32m/anaconda3/lib/python3.6/ftplib.py\u001b[0m in \u001b[0;36mvoidcmd\u001b[0;34m(self, cmd)\u001b[0m\n\u001b[1;32m    276\u001b[0m         \u001b[0;34m\"\"\"Send a command and expect a response beginning with '2'.\"\"\"\u001b[0m\u001b[0;34m\u001b[0m\u001b[0m\n\u001b[1;32m    277\u001b[0m         \u001b[0mself\u001b[0m\u001b[0;34m.\u001b[0m\u001b[0mputcmd\u001b[0m\u001b[0;34m(\u001b[0m\u001b[0mcmd\u001b[0m\u001b[0;34m)\u001b[0m\u001b[0;34m\u001b[0m\u001b[0m\n\u001b[0;32m--> 278\u001b[0;31m         \u001b[0;32mreturn\u001b[0m \u001b[0mself\u001b[0m\u001b[0;34m.\u001b[0m\u001b[0mvoidresp\u001b[0m\u001b[0;34m(\u001b[0m\u001b[0;34m)\u001b[0m\u001b[0;34m\u001b[0m\u001b[0m\n\u001b[0m\u001b[1;32m    279\u001b[0m \u001b[0;34m\u001b[0m\u001b[0m\n\u001b[1;32m    280\u001b[0m     \u001b[0;32mdef\u001b[0m \u001b[0msendport\u001b[0m\u001b[0;34m(\u001b[0m\u001b[0mself\u001b[0m\u001b[0;34m,\u001b[0m \u001b[0mhost\u001b[0m\u001b[0;34m,\u001b[0m \u001b[0mport\u001b[0m\u001b[0;34m)\u001b[0m\u001b[0;34m:\u001b[0m\u001b[0;34m\u001b[0m\u001b[0m\n",
      "\u001b[0;32m/anaconda3/lib/python3.6/ftplib.py\u001b[0m in \u001b[0;36mvoidresp\u001b[0;34m(self)\u001b[0m\n\u001b[1;32m    249\u001b[0m     \u001b[0;32mdef\u001b[0m \u001b[0mvoidresp\u001b[0m\u001b[0;34m(\u001b[0m\u001b[0mself\u001b[0m\u001b[0;34m)\u001b[0m\u001b[0;34m:\u001b[0m\u001b[0;34m\u001b[0m\u001b[0m\n\u001b[1;32m    250\u001b[0m         \u001b[0;34m\"\"\"Expect a response beginning with '2'.\"\"\"\u001b[0m\u001b[0;34m\u001b[0m\u001b[0m\n\u001b[0;32m--> 251\u001b[0;31m         \u001b[0mresp\u001b[0m \u001b[0;34m=\u001b[0m \u001b[0mself\u001b[0m\u001b[0;34m.\u001b[0m\u001b[0mgetresp\u001b[0m\u001b[0;34m(\u001b[0m\u001b[0;34m)\u001b[0m\u001b[0;34m\u001b[0m\u001b[0m\n\u001b[0m\u001b[1;32m    252\u001b[0m         \u001b[0;32mif\u001b[0m \u001b[0mresp\u001b[0m\u001b[0;34m[\u001b[0m\u001b[0;34m:\u001b[0m\u001b[0;36m1\u001b[0m\u001b[0;34m]\u001b[0m \u001b[0;34m!=\u001b[0m \u001b[0;34m'2'\u001b[0m\u001b[0;34m:\u001b[0m\u001b[0;34m\u001b[0m\u001b[0m\n\u001b[1;32m    253\u001b[0m             \u001b[0;32mraise\u001b[0m \u001b[0merror_reply\u001b[0m\u001b[0;34m(\u001b[0m\u001b[0mresp\u001b[0m\u001b[0;34m)\u001b[0m\u001b[0;34m\u001b[0m\u001b[0m\n",
      "\u001b[0;32m/anaconda3/lib/python3.6/ftplib.py\u001b[0m in \u001b[0;36mgetresp\u001b[0;34m(self)\u001b[0m\n\u001b[1;32m    234\u001b[0m     \u001b[0;31m# Raise various errors if the response indicates an error\u001b[0m\u001b[0;34m\u001b[0m\u001b[0;34m\u001b[0m\u001b[0m\n\u001b[1;32m    235\u001b[0m     \u001b[0;32mdef\u001b[0m \u001b[0mgetresp\u001b[0m\u001b[0;34m(\u001b[0m\u001b[0mself\u001b[0m\u001b[0;34m)\u001b[0m\u001b[0;34m:\u001b[0m\u001b[0;34m\u001b[0m\u001b[0m\n\u001b[0;32m--> 236\u001b[0;31m         \u001b[0mresp\u001b[0m \u001b[0;34m=\u001b[0m \u001b[0mself\u001b[0m\u001b[0;34m.\u001b[0m\u001b[0mgetmultiline\u001b[0m\u001b[0;34m(\u001b[0m\u001b[0;34m)\u001b[0m\u001b[0;34m\u001b[0m\u001b[0m\n\u001b[0m\u001b[1;32m    237\u001b[0m         \u001b[0;32mif\u001b[0m \u001b[0mself\u001b[0m\u001b[0;34m.\u001b[0m\u001b[0mdebugging\u001b[0m\u001b[0;34m:\u001b[0m\u001b[0;34m\u001b[0m\u001b[0m\n\u001b[1;32m    238\u001b[0m             \u001b[0mprint\u001b[0m\u001b[0;34m(\u001b[0m\u001b[0;34m'*resp*'\u001b[0m\u001b[0;34m,\u001b[0m \u001b[0mself\u001b[0m\u001b[0;34m.\u001b[0m\u001b[0msanitize\u001b[0m\u001b[0;34m(\u001b[0m\u001b[0mresp\u001b[0m\u001b[0;34m)\u001b[0m\u001b[0;34m)\u001b[0m\u001b[0;34m\u001b[0m\u001b[0m\n",
      "\u001b[0;32m/anaconda3/lib/python3.6/ftplib.py\u001b[0m in \u001b[0;36mgetmultiline\u001b[0;34m(self)\u001b[0m\n\u001b[1;32m    220\u001b[0m     \u001b[0;31m# these are separated by '\\n' characters in the string\u001b[0m\u001b[0;34m\u001b[0m\u001b[0;34m\u001b[0m\u001b[0m\n\u001b[1;32m    221\u001b[0m     \u001b[0;32mdef\u001b[0m \u001b[0mgetmultiline\u001b[0m\u001b[0;34m(\u001b[0m\u001b[0mself\u001b[0m\u001b[0;34m)\u001b[0m\u001b[0;34m:\u001b[0m\u001b[0;34m\u001b[0m\u001b[0m\n\u001b[0;32m--> 222\u001b[0;31m         \u001b[0mline\u001b[0m \u001b[0;34m=\u001b[0m \u001b[0mself\u001b[0m\u001b[0;34m.\u001b[0m\u001b[0mgetline\u001b[0m\u001b[0;34m(\u001b[0m\u001b[0;34m)\u001b[0m\u001b[0;34m\u001b[0m\u001b[0m\n\u001b[0m\u001b[1;32m    223\u001b[0m         \u001b[0;32mif\u001b[0m \u001b[0mline\u001b[0m\u001b[0;34m[\u001b[0m\u001b[0;36m3\u001b[0m\u001b[0;34m:\u001b[0m\u001b[0;36m4\u001b[0m\u001b[0;34m]\u001b[0m \u001b[0;34m==\u001b[0m \u001b[0;34m'-'\u001b[0m\u001b[0;34m:\u001b[0m\u001b[0;34m\u001b[0m\u001b[0m\n\u001b[1;32m    224\u001b[0m             \u001b[0mcode\u001b[0m \u001b[0;34m=\u001b[0m \u001b[0mline\u001b[0m\u001b[0;34m[\u001b[0m\u001b[0;34m:\u001b[0m\u001b[0;36m3\u001b[0m\u001b[0;34m]\u001b[0m\u001b[0;34m\u001b[0m\u001b[0m\n",
      "\u001b[0;32m/anaconda3/lib/python3.6/ftplib.py\u001b[0m in \u001b[0;36mgetline\u001b[0;34m(self)\u001b[0m\n\u001b[1;32m    208\u001b[0m             \u001b[0mprint\u001b[0m\u001b[0;34m(\u001b[0m\u001b[0;34m'*get*'\u001b[0m\u001b[0;34m,\u001b[0m \u001b[0mself\u001b[0m\u001b[0;34m.\u001b[0m\u001b[0msanitize\u001b[0m\u001b[0;34m(\u001b[0m\u001b[0mline\u001b[0m\u001b[0;34m)\u001b[0m\u001b[0;34m)\u001b[0m\u001b[0;34m\u001b[0m\u001b[0m\n\u001b[1;32m    209\u001b[0m         \u001b[0;32mif\u001b[0m \u001b[0;32mnot\u001b[0m \u001b[0mline\u001b[0m\u001b[0;34m:\u001b[0m\u001b[0;34m\u001b[0m\u001b[0m\n\u001b[0;32m--> 210\u001b[0;31m             \u001b[0;32mraise\u001b[0m \u001b[0mEOFError\u001b[0m\u001b[0;34m\u001b[0m\u001b[0m\n\u001b[0m\u001b[1;32m    211\u001b[0m         \u001b[0;32mif\u001b[0m \u001b[0mline\u001b[0m\u001b[0;34m[\u001b[0m\u001b[0;34m-\u001b[0m\u001b[0;36m2\u001b[0m\u001b[0;34m:\u001b[0m\u001b[0;34m]\u001b[0m \u001b[0;34m==\u001b[0m \u001b[0mCRLF\u001b[0m\u001b[0;34m:\u001b[0m\u001b[0;34m\u001b[0m\u001b[0m\n\u001b[1;32m    212\u001b[0m             \u001b[0mline\u001b[0m \u001b[0;34m=\u001b[0m \u001b[0mline\u001b[0m\u001b[0;34m[\u001b[0m\u001b[0;34m:\u001b[0m\u001b[0;34m-\u001b[0m\u001b[0;36m2\u001b[0m\u001b[0;34m]\u001b[0m\u001b[0;34m\u001b[0m\u001b[0m\n",
      "\u001b[0;31mEOFError\u001b[0m: "
     ]
    }
   ],
   "source": [
    "ftp.quit()"
   ]
  },
  {
   "cell_type": "code",
   "execution_count": 1,
   "metadata": {},
   "outputs": [],
   "source": [
    "from pathlib import Path"
   ]
  },
  {
   "cell_type": "code",
   "execution_count": null,
   "metadata": {},
   "outputs": [],
   "source": [
    "curl(https://nomads.ncdc.noaa.gov/data/rucanl/201808/20180801/rap_130_20180801_0000_000.grb2)"
   ]
  },
  {
   "cell_type": "code",
   "execution_count": 1,
   "metadata": {},
   "outputs": [],
   "source": [
    "from subprocess import call"
   ]
  },
  {
   "cell_type": "code",
   "execution_count": 3,
   "metadata": {},
   "outputs": [
    {
     "data": {
      "text/plain": [
       "0"
      ]
     },
     "execution_count": 3,
     "metadata": {},
     "output_type": "execute_result"
    }
   ],
   "source": [
    "call(['ls','-l'])"
   ]
  },
  {
   "cell_type": "code",
   "execution_count": null,
   "metadata": {},
   "outputs": [],
   "source": []
  }
 ],
 "metadata": {
  "kernelspec": {
   "display_name": "Python 3",
   "language": "python",
   "name": "python3"
  },
  "language_info": {
   "codemirror_mode": {
    "name": "ipython",
    "version": 3
   },
   "file_extension": ".py",
   "mimetype": "text/x-python",
   "name": "python",
   "nbconvert_exporter": "python",
   "pygments_lexer": "ipython3",
   "version": "3.6.6"
  }
 },
 "nbformat": 4,
 "nbformat_minor": 2
}
