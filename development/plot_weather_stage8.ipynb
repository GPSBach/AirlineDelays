{
 "cells": [
  {
   "cell_type": "code",
   "execution_count": 2,
   "metadata": {},
   "outputs": [],
   "source": [
    "import os\n",
    "import conda\n",
    "\n",
    "conda_file_dir = conda.__file__\n",
    "conda_dir = conda_file_dir.split('lib')[0]\n",
    "proj_lib = os.path.join(os.path.join(conda_dir, 'share'), 'proj')\n",
    "os.environ[\"PROJ_LIB\"] = proj_lib\n",
    "\n",
    "from mpl_toolkits.basemap import Basemap\n",
    "\n",
    "import numpy as np\n",
    "import matplotlib.pyplot as plt\n",
    "import matplotlib\n",
    "import pygrib\n",
    "from mpl_toolkits.mplot3d import Axes3D\n",
    "from matplotlib.collections import PolyCollection\n",
    "import time\n",
    "\n",
    "def print_time(t0):\n",
    "    t1 = time.time()\n",
    "    return t1-t0"
   ]
  },
  {
   "cell_type": "code",
   "execution_count": 3,
   "metadata": {},
   "outputs": [
    {
     "name": "stderr",
     "output_type": "stream",
     "text": [
      "/anaconda3/lib/python3.6/site-packages/numpy/core/fromnumeric.py:83: RuntimeWarning: invalid value encountered in reduce\n",
      "  return ufunc.reduce(obj, axis, dtype, out, **passkwargs)\n"
     ]
    },
    {
     "name": "stdout",
     "output_type": "stream",
     "text": [
      "Printed stage8_00000.png in 3.133776903152466 seconds\n",
      "Printed stage8_00001.png in 3.22939395904541 seconds\n",
      "Printed stage8_00002.png in 3.040271043777466 seconds\n",
      "Printed stage8_00003.png in 3.1109418869018555 seconds\n",
      "Printed stage8_00004.png in 3.16105580329895 seconds\n",
      "Printed stage8_00005.png in 3.0690670013427734 seconds\n",
      "Printed stage8_00006.png in 3.1209521293640137 seconds\n",
      "Printed stage8_00007.png in 3.0003159046173096 seconds\n",
      "Printed stage8_00008.png in 2.995243787765503 seconds\n",
      "Printed stage8_00009.png in 3.1552541255950928 seconds\n"
     ]
    }
   ],
   "source": [
    "# starting and ending viewazimuths\n",
    "azim_start = 270\n",
    "azim_end = 230\n",
    "\n",
    "# starting and ending view elevations\n",
    "elev_start = 90\n",
    "elev_end = 25\n",
    "\n",
    "# starting and ending zooms\n",
    "dist_start = 230\n",
    "dist_end = 130\n",
    "\n",
    "#airport coordinates\n",
    "lat_DEN = 39.7392\n",
    "lon_DEN = -104.9903\n",
    "lat_MIA = 25.7617\n",
    "lon_MIA = -80.1918\n",
    "\n",
    "# starting and ending center latitude\n",
    "lat_start = 38.5\n",
    "lat_end = (lat_DEN+lat_MIA)/2\n",
    "\n",
    "# starting and ending longitude\n",
    "lon_start = -97.5\n",
    "lon_end = (lon_DEN+lon_MIA)/2\n",
    "\n",
    "# starting and ending layer separation\n",
    "delev_start = 0\n",
    "delev_end = 0\n",
    "\n",
    "#latitude windows\n",
    "degree_window_start = 5\n",
    "degree_window_end = 5\n",
    "\n",
    "# delta center degrees\n",
    "# latitude window for center\n",
    "# tradoff with dist\n",
    "ddeg = 1\n",
    "\n",
    "# flight path height\n",
    "flight_maxz = 5\n",
    "\n",
    "# initialize flight list\n",
    "flight_lat = []\n",
    "flight_lon = []\n",
    "flight_z = []\n",
    "\n",
    "#save files setup\n",
    "savepath = '../plots/map/movie/animate_test/'\n",
    "filename = 'stage8_'\n",
    "\n",
    "\n",
    "num_steps = 10\n",
    "\n",
    "t0 = time.time()\n",
    "\n",
    "variables = ['Total Cloud Cover']\n",
    "colors = ['viridis']\n",
    "ranges = [(0,100)]\n",
    "\n",
    "for i in range(num_steps):\n",
    "    \n",
    "    flight_lat.append(lat_DEN-i*((lat_DEN-lat_MIA)/(num_steps-1)))\n",
    "    flight_lon.append(lon_DEN-i*((lon_DEN-lon_MIA)/(num_steps-1)))\n",
    "    flight_z.append(((-(1/flight_maxz)*((num_steps-1)/2)**2)**-1)*(i-(num_steps-1)/2)**2+(flight_maxz))\n",
    "    \n",
    "    delev = delev_start-i*((delev_start-delev_end)/(num_steps-1))\n",
    "    degree_window = degree_window_start-i*((degree_window_start-degree_window_end)/(num_steps-1))\n",
    "    hour = str(i-24*(i//24)).zfill(2)\n",
    "    day = str(1+i//24).zfill(2)\n",
    "    try:\n",
    "        grbs = pygrib.open(f'../data/weather/august_full/rap_130_201808{day}_{hour}00_000.grb2')\n",
    "    except:\n",
    "        pass\n",
    "    \n",
    "    datas = []\n",
    "    elev = np.arange(len(variables))*delev\n",
    "\n",
    "    for variable in variables:\n",
    "        grb = grbs.select(name=variable)[0]\n",
    "        lats, lons = grb.latlons()\n",
    "        datas.append(grb['values'])\n",
    "\n",
    "    map = Basemap(llcrnrlon=-360,llcrnrlat=-90,urcrnrlon=360,urcrnrlat=90,)\n",
    "\n",
    "    fig = plt.figure(figsize=[10,10],dpi=150)\n",
    "    ax = Axes3D(fig)\n",
    "\n",
    "    ax.add_collection3d(map.drawcoastlines(linewidth=0.25))\n",
    "    ax.add_collection3d(map.drawcountries(linewidth=0.35))\n",
    "\n",
    "    ax.set_axis_off()\n",
    "    ax.azim = azim_start-i*((azim_start-azim_end)/(num_steps-1))\n",
    "    ax.elev = elev_start-i*((elev_start-elev_end)/(num_steps-1))\n",
    "    ax.dist = dist_start-i*((dist_start-dist_end)/(num_steps-1))\n",
    "    \n",
    "    center_lat = lat_start-i*((lat_start-lat_end)/(num_steps-1))\n",
    "    center_lon = lon_start-i*((lon_start-lon_end)/(num_steps-1))\n",
    "\n",
    "\n",
    "    for ix,data in enumerate(datas):\n",
    "        # fourth dimention - colormap\n",
    "        # create colormap according to x-value (can use any 50x50 array)\n",
    "        color_dimension = data # change to desired fourth dimension\n",
    "        minn, maxx = color_dimension.min(), color_dimension.max()\n",
    "        norm = matplotlib.colors.Normalize(minn, maxx)\n",
    "        m = plt.cm.ScalarMappable(norm=norm, cmap=colors[ix])\n",
    "        m.set_array([])\n",
    "        fcolors = m.to_rgba(color_dimension)\n",
    "        Z_DEN = np.ones(lats.shape)*elev[ix]+delev/10\n",
    "        Z_MIA = np.ones(lats.shape)*elev[ix]+delev/10\n",
    "        mask_DEN = np.ma.masked_where((np.sqrt((lats-lat_DEN)**2 + (lons-lon_DEN)**2) > degree_window), Z_DEN)\n",
    "        mask_MIA = np.ma.masked_where((np.sqrt((lats-lat_MIA)**2 + (lons-lon_MIA)**2) > degree_window), Z_MIA)\n",
    "        Z_DEN[np.where(np.ma.getmask(mask_DEN)==True)] = np.nan # or np.where(np.ma.getmask(mask2)==True)] = np.nan\n",
    "        Z_MIA[np.where(np.ma.getmask(mask_MIA)==True)] = np.nan\n",
    "        \n",
    "        ax.plot_surface(lons,lats,-1*Z_DEN,cstride=10,rstride=10,facecolors=fcolors, vmin=ranges[ix][0], vmax=ranges[ix][0], shade=False, zorder=1)\n",
    "        ax.plot_surface(lons,lats,-1*Z_MIA,cstride=10,rstride=10,facecolors=fcolors, vmin=ranges[ix][0], vmax=ranges[ix][0], shade=False, zorder=1)\n",
    "        ax.scatter(flight_lon, flight_lat, flight_z, color='r',marker='.',linewidth=3, zorder=2)\n",
    "        ax.scatter(flight_lon[-1], flight_lat[-1], flight_z[-1],color='r',marker='o',linewidth=10, zorder=3)\n",
    "\n",
    "    ax.set_xlim3d(center_lon-ddeg,center_lon+ddeg)\n",
    "    ax.set_ylim3d(center_lat-ddeg,center_lat+ddeg)\n",
    "    if i < 10:\n",
    "        fig.savefig(f'{savepath}{filename}0000{i}.png', dpi=fig.dpi)\n",
    "    elif i >=10 and i < 100:\n",
    "        fig.savefig(f'{savepath}{filename}000{i}.png', dpi=fig.dpi)\n",
    "    elif i >=100 and i < 1000:\n",
    "        fig.savefig(f'{savepath}{filename}00{i}.png', dpi=fig.dpi)\n",
    "    elif i > 1000:\n",
    "        fig.savefig(f'{savepath}{filename}0{i}.png', dpi=fig.dpi)\n",
    "    plt.close()\n",
    "    print(f'Printed {filename}0000{i}.png in',print_time(t0),'seconds')\n",
    "    t0 = time.time()"
   ]
  },
  {
   "cell_type": "code",
   "execution_count": 19,
   "metadata": {},
   "outputs": [
    {
     "data": {
      "text/plain": [
       "<matplotlib.image.AxesImage at 0x128bab518>"
      ]
     },
     "execution_count": 19,
     "metadata": {},
     "output_type": "execute_result"
    },
    {
     "data": {
      "image/png": "[encoded data removed]",
      "text/plain": [
       "<Figure size 432x288 with 1 Axes>"
      ]
     },
     "metadata": {},
     "output_type": "display_data"
    }
   ],
   "source": [
    "plt.imshow(mask)"
   ]
  },
  {
   "cell_type": "code",
   "execution_count": 19,
   "metadata": {},
   "outputs": [
    {
     "ename": "TypeError",
     "evalue": "masked_where() missing 1 required positional argument: 'a'",
     "output_type": "error",
     "traceback": [
      "\u001b[0;31m---------------------------------------------------------------------------\u001b[0m",
      "\u001b[0;31mTypeError\u001b[0m                                 Traceback (most recent call last)",
      "\u001b[0;32m<ipython-input-19-8a5c04d3650d>\u001b[0m in \u001b[0;36m<module>\u001b[0;34m()\u001b[0m\n\u001b[0;32m----> 1\u001b[0;31m \u001b[0mmask\u001b[0m \u001b[0;34m=\u001b[0m \u001b[0mnp\u001b[0m\u001b[0;34m.\u001b[0m\u001b[0mma\u001b[0m\u001b[0;34m.\u001b[0m\u001b[0mmasked_where\u001b[0m\u001b[0;34m(\u001b[0m\u001b[0;34m(\u001b[0m\u001b[0mnp\u001b[0m\u001b[0;34m.\u001b[0m\u001b[0mabsolute\u001b[0m\u001b[0;34m(\u001b[0m\u001b[0mlats\u001b[0m\u001b[0;34m-\u001b[0m\u001b[0mlat_MIA\u001b[0m\u001b[0;34m)\u001b[0m\u001b[0;34m<\u001b[0m\u001b[0mlat_window\u001b[0m\u001b[0;34m,\u001b[0m\u001b[0mZ\u001b[0m\u001b[0;34m)\u001b[0m\u001b[0;34m)\u001b[0m\u001b[0;34m\u001b[0m\u001b[0m\n\u001b[0m",
      "\u001b[0;31mTypeError\u001b[0m: masked_where() missing 1 required positional argument: 'a'"
     ]
    }
   ],
   "source": [
    "mask = np.ma.masked_where((np.absolute(lats-lat_MIA)<lat_window,Z))"
   ]
  },
  {
   "cell_type": "code",
   "execution_count": 7,
   "metadata": {},
   "outputs": [
    {
     "name": "stderr",
     "output_type": "stream",
     "text": [
      "/anaconda3/lib/python3.6/site-packages/numpy/core/fromnumeric.py:83: RuntimeWarning: invalid value encountered in reduce\n",
      "  return ufunc.reduce(obj, axis, dtype, out, **passkwargs)\n"
     ]
    },
    {
     "data": {
      "text/plain": [
       "nan"
      ]
     },
     "execution_count": 7,
     "metadata": {},
     "output_type": "execute_result"
    }
   ],
   "source": []
  },
  {
   "cell_type": "code",
   "execution_count": null,
   "metadata": {},
   "outputs": [],
   "source": []
  }
 ],
 "metadata": {
  "kernelspec": {
   "display_name": "Python 3",
   "language": "python",
   "name": "python3"
  },
  "language_info": {
   "codemirror_mode": {
    "name": "ipython",
    "version": 3
   },
   "file_extension": ".py",
   "mimetype": "text/x-python",
   "name": "python",
   "nbconvert_exporter": "python",
   "pygments_lexer": "ipython3",
   "version": "3.6.6"
  }
 },
 "nbformat": 4,
 "nbformat_minor": 2
}
